{
 "cells": [
  {
   "cell_type": "markdown",
   "id": "38b7b844",
   "metadata": {},
   "source": [
    "## RULE PARSING"
   ]
  },
  {
   "cell_type": "code",
   "execution_count": 127,
   "id": "210ac2aa",
   "metadata": {},
   "outputs": [],
   "source": [
    "import lingua\n",
    "\n",
    "LANG = \"pl\"\n",
    "\n",
    "# LANG_OBJ = getattr(lingua.isocode.IsoCode639_1, LANG.upper())\n",
    "LANG_OBJ = lingua.Language.POLISH"
   ]
  },
  {
   "cell_type": "code",
   "execution_count": null,
   "id": "2190a8b2",
   "metadata": {},
   "outputs": [],
   "source": []
  },
  {
   "cell_type": "code",
   "execution_count": 2,
   "id": "6a38714b",
   "metadata": {},
   "outputs": [],
   "source": [
    "with open(r\"C:\\dev\\razumlivost\\src\\flavorizers\\{}.ts\".format(LANG), \"r\", encoding=\"utf8\") as f:\n",
    "    RULES = f.read()"
   ]
  },
  {
   "cell_type": "code",
   "execution_count": null,
   "id": "7d10b345",
   "metadata": {},
   "outputs": [],
   "source": []
  },
  {
   "cell_type": "code",
   "execution_count": 3,
   "id": "522a5a7c",
   "metadata": {},
   "outputs": [],
   "source": [
    "import sys\n",
    "sys.path.append(\"C:\\\\Users\\\\79165\\\\anaconda3\\\\envs\\\\slovnik\\\\lib\\\\site-packages\\\\\")\n",
    "\n",
    "sys.path.append(\"C://dev/ISV_data_gathering/\")\n",
    "\n",
    "from translation_aux import prepare_slovnik\n",
    "from isv_translate import get_slovnik\n",
    "\n",
    "from isv_nlp_utils import constants\n",
    "from isv_translate import translate_sentence, postprocess_translation_details, prepare_parsing"
   ]
  },
  {
   "cell_type": "code",
   "execution_count": null,
   "id": "3cc79584",
   "metadata": {},
   "outputs": [],
   "source": []
  },
  {
   "cell_type": "code",
   "execution_count": null,
   "id": "425381b2",
   "metadata": {},
   "outputs": [],
   "source": []
  },
  {
   "cell_type": "code",
   "execution_count": null,
   "id": "a59fdffb",
   "metadata": {},
   "outputs": [],
   "source": []
  },
  {
   "cell_type": "code",
   "execution_count": 4,
   "id": "924e20ee",
   "metadata": {},
   "outputs": [],
   "source": [
    "for i, line in enumerate(RULES.split(\"\\n\")):\n",
    "    if \"multireplacer\" in line and \"import\" not in line:\n",
    "        break\n",
    "\n",
    "RULES = \"\\n\".join(RULES.split(\"\\n\")[i:])"
   ]
  },
  {
   "cell_type": "code",
   "execution_count": 5,
   "id": "534e8be3",
   "metadata": {},
   "outputs": [],
   "source": [
    "RULES = \"\\n\".join(l for l in RULES.split(\"\\n\") if not l.strip().startswith(\"//\"))"
   ]
  },
  {
   "cell_type": "code",
   "execution_count": null,
   "id": "9e146b20",
   "metadata": {},
   "outputs": [],
   "source": []
  },
  {
   "cell_type": "code",
   "execution_count": null,
   "id": "5728ef5b",
   "metadata": {},
   "outputs": [],
   "source": [
    "\n"
   ]
  },
  {
   "cell_type": "code",
   "execution_count": 6,
   "id": "d7d603be",
   "metadata": {},
   "outputs": [],
   "source": [
    "from pyparsing import Group, Opt, Literal, Word, sgl_quoted_string, Suppress\n",
    "import pyparsing\n",
    "\n",
    "L = pyparsing.Literal\n",
    "S = Suppress\n",
    "\n",
    "chars = pyparsing.unicode.alphas"
   ]
  },
  {
   "cell_type": "code",
   "execution_count": 37,
   "id": "94c6af3e",
   "metadata": {},
   "outputs": [
    {
     "data": {
      "text/plain": [
       "ParseResults(['c', 'a'], {})"
      ]
     },
     "execution_count": 37,
     "metadata": {},
     "output_type": "execute_result"
    }
   ],
   "source": [
    "SS = \"        c: 'a',\"\n",
    "\n",
    "DICT_ENTRY.parseString(SS)"
   ]
  },
  {
   "cell_type": "code",
   "execution_count": 83,
   "id": "cb43f2d6",
   "metadata": {},
   "outputs": [
    {
     "data": {
      "text/plain": [
       "ParseResults(['c', ''], {})"
      ]
     },
     "execution_count": 83,
     "metadata": {},
     "output_type": "execute_result"
    }
   ],
   "source": [
    "DICT_ENTRY = (\n",
    "    (Word(chars) | \"'’'\")+ \n",
    "    L(\":\").suppress() + \n",
    "    L(\"'\").suppress() + \n",
    "    Opt(Word(chars), default=\"\") + \n",
    "    L(\"'\").suppress() + \n",
    "    L(\",\").suppress()\n",
    ")\n",
    "\n",
    "SS = \"        c: '',\"\n",
    "\n",
    "DICT_ENTRY.parseString(SS)"
   ]
  },
  {
   "cell_type": "code",
   "execution_count": 23,
   "id": "82f76ea2",
   "metadata": {},
   "outputs": [
    {
     "data": {
      "text/plain": [
       "\"',\""
      ]
     },
     "execution_count": 23,
     "metadata": {},
     "output_type": "execute_result"
    }
   ],
   "source": [
    "SS[14:]"
   ]
  },
  {
   "cell_type": "code",
   "execution_count": null,
   "id": "3ac13225",
   "metadata": {},
   "outputs": [],
   "source": []
  },
  {
   "cell_type": "code",
   "execution_count": 84,
   "id": "69236935",
   "metadata": {},
   "outputs": [],
   "source": [
    "DICT_ENTRY = (\n",
    "    (Word(chars) | \"'’'\")+ \n",
    "    L(\":\").suppress() + \n",
    "    L(\"'\").suppress() + \n",
    "    Opt(Word(chars), default=\"\") + \n",
    "    L(\"'\").suppress() + \n",
    "    L(\",\").suppress()\n",
    ")\n",
    "\n",
    "MAP_DESC = (\n",
    "    S(\"{\") + \n",
    "    pyparsing.OneOrMore(\n",
    "        pyparsing.Group(DICT_ENTRY)\n",
    "    )(\"map\") + \n",
    "    S(\"}\")\n",
    ")\n",
    "\n",
    "RULE_CASE =  L(\"(r) => r.lowerCase()\") | L(\"(r) => r.restoreCase()\")\n",
    "RULE_REGEX = S(\"(r)\") + S(\"=>\") + \"r.regexp\" + S(\"(/\") + ... + S(\"/\") + S(\",\") + S('[') + Group(pyparsing.OneOrMore(sgl_quoted_string + Opt(\",\").suppress())) + S(']') + S(\")\")\n",
    "RULE_MAP =   S(\"(r)\") + S(\"=>\") + \"r.map\" + S(\"(\") + MAP_DESC + S(\")\")\n",
    "CONSTRAINT = S(\"(p)\") + S(\"=>\") + S(\"p.\") + Group(Word(chars) + S(\"(\") + ... + S(\")\")) + S(\",\")\n",
    "\n",
    "\n",
    "rule_content = sgl_quoted_string + S(\",\") + (RULE_REGEX | RULE_MAP | RULE_CASE) + Opt(\",\").suppress() + Opt(CONSTRAINT) + Opt(\",\").suppress()\n",
    "\n"
   ]
  },
  {
   "cell_type": "code",
   "execution_count": 85,
   "id": "7b4a7bc8",
   "metadata": {},
   "outputs": [],
   "source": [
    "rule_expr     = pyparsing.nestedExpr( '(', ')', content=rule_content)\n",
    "\n",
    "\n",
    "element = (\n",
    "    Group(Suppress(\".rule\") + S(\"(\") + rule_content + S(\")\"))(\"rule\") | \n",
    "    Group(Literal(\".named\") + S(\"(\") + sgl_quoted_string  + S(\")\"))(\"named\") | \n",
    "    Group(Literal(\".section\") + S(\"(\") + sgl_quoted_string  + S(\")\"))(\"section\")\n",
    ")"
   ]
  },
  {
   "cell_type": "code",
   "execution_count": null,
   "id": "518d9a5f",
   "metadata": {},
   "outputs": [],
   "source": []
  },
  {
   "cell_type": "code",
   "execution_count": null,
   "id": "770bd607",
   "metadata": {},
   "outputs": [],
   "source": []
  },
  {
   "cell_type": "code",
   "execution_count": 86,
   "id": "b3cd419f",
   "metadata": {},
   "outputs": [
    {
     "name": "stdout",
     "output_type": "stream",
     "text": [
      ".rule('Etymological → Polish', (r) =>\n",
      "      r.map({\n",
      "        ę: 'ę',\n",
      "        å: 'o',\n",
      "        ğ: 'h',\n",
      "        ė: 'e',\n",
      "        ȯ: 'e',\n",
      "        đ: 'dz',\n",
      "        ĺ: 'l',\n",
      "        ď: 'dź',\n",
      "        ḓ: 'd',\n",
      "  \n"
     ]
    },
    {
     "data": {
      "text/plain": [
       "ParseResults([ParseResults([\"'Etymological → Polish'\", 'r.map', ParseResults(['ę', 'ę'], {}), ParseResults(['å', 'o'], {}), ParseResults(['ğ', 'h'], {}), ParseResults(['ė', 'e'], {}), ParseResults(['ȯ', 'e'], {}), ParseResults(['đ', 'dz'], {}), ParseResults(['ĺ', 'l'], {}), ParseResults(['ď', 'dź'], {}), ParseResults(['ḓ', 'd'], {}), ParseResults(['ś', 'ś'], {}), ParseResults(['ù', 'u'], {}), ParseResults(['ť', 't'], {}), ParseResults(['ź', 'ź'], {}), ParseResults([\"'’'\", ''], {})], {'map': [['ę', 'ę'], ['å', 'o'], ['ğ', 'h'], ['ė', 'e'], ['ȯ', 'e'], ['đ', 'dz'], ['ĺ', 'l'], ['ď', 'dź'], ['ḓ', 'd'], ['ś', 'ś'], ['ù', 'u'], ['ť', 't'], ['ź', 'ź'], [\"'’'\", '']]})], {'rule': {'map': [['ę', 'ę'], ['å', 'o'], ['ğ', 'h'], ['ė', 'e'], ['ȯ', 'e'], ['đ', 'dz'], ['ĺ', 'l'], ['ď', 'dź'], ['ḓ', 'd'], ['ś', 'ś'], ['ù', 'u'], ['ť', 't'], ['ź', 'ź'], [\"'’'\", '']]}})"
      ]
     },
     "execution_count": 86,
     "metadata": {},
     "output_type": "execute_result"
    }
   ],
   "source": [
    "S1 = RULES[2801:]\n",
    "print(S1[:200])\n",
    "\n",
    "element.parseString(S1)"
   ]
  },
  {
   "cell_type": "code",
   "execution_count": null,
   "id": "bb7a65a8",
   "metadata": {},
   "outputs": [],
   "source": []
  },
  {
   "cell_type": "code",
   "execution_count": null,
   "id": "1e1456ae",
   "metadata": {},
   "outputs": [],
   "source": []
  },
  {
   "cell_type": "code",
   "execution_count": 87,
   "id": "a6e66c73",
   "metadata": {},
   "outputs": [],
   "source": [
    "parser = S(\"multireplacer\") + pyparsing.ZeroOrMore(element) + L(\".build();\")"
   ]
  },
  {
   "cell_type": "code",
   "execution_count": 88,
   "id": "3c69b490",
   "metadata": {},
   "outputs": [],
   "source": [
    "res = parser.parseString(RULES)\n",
    "\n"
   ]
  },
  {
   "cell_type": "code",
   "execution_count": null,
   "id": "be22acaa",
   "metadata": {},
   "outputs": [],
   "source": []
  },
  {
   "cell_type": "code",
   "execution_count": null,
   "id": "824b0659",
   "metadata": {},
   "outputs": [],
   "source": []
  },
  {
   "cell_type": "markdown",
   "id": "9e5a80ef",
   "metadata": {},
   "source": [
    "# TOKENIZATION"
   ]
  },
  {
   "cell_type": "code",
   "execution_count": 89,
   "id": "84c68b6c",
   "metadata": {},
   "outputs": [
    {
     "name": "stdout",
     "output_type": "stream",
     "text": [
      "Found 'slovnik.pkl' file, using it\n"
     ]
    }
   ],
   "source": [
    "import pandas as pd\n",
    "\n",
    "\n",
    "slovnik = get_slovnik()\n",
    "slovnik = slovnik['words']\n"
   ]
  },
  {
   "cell_type": "code",
   "execution_count": 90,
   "id": "25248c44",
   "metadata": {},
   "outputs": [],
   "source": [
    "from razdel import tokenize\n",
    "import re"
   ]
  },
  {
   "cell_type": "code",
   "execution_count": null,
   "id": "d896a15e",
   "metadata": {},
   "outputs": [],
   "source": []
  },
  {
   "cell_type": "code",
   "execution_count": 91,
   "id": "8a5f8452",
   "metadata": {},
   "outputs": [],
   "source": [
    "import unicodedata\n",
    "\n",
    "def convert2MSPlus(thestring):\n",
    "    # \"e^\" -> \"ê\"\n",
    "    # 'z\\u030C\\u030C\\u030C' -> 'ž\\u030C\\u030C'\n",
    "    thestring = unicodedata.normalize(\n",
    "        'NFKC',\n",
    "        thestring\n",
    "    )\n",
    "    # TODO: do the same for upper case\n",
    "    thestring = (\n",
    "        thestring\n",
    "        .replace(\"ň\", \"ń\").replace(\"ĺ\", \"ľ\")\n",
    "        .replace(\"d\\u0301\", \"ď\").replace(\"t\\u0301\", \"ť\")\n",
    "        .replace(\"l\\u0301\", \"ľ\").replace(\"n\\u0301\", \"ń\")\n",
    "        .replace(\"ò\", \"ȯ\").replace(\"è\", \"ė\")\n",
    "        .replace(\"ǉ\", \"lj\").replace(\"ĳ\", \"ij\").replace(\"ǌ\", \"nj\").replace(\"t́\", \"ť\").replace(\"d́\", \"ď\")\n",
    "    )\n",
    "    return thestring\n",
    "\n"
   ]
  },
  {
   "cell_type": "code",
   "execution_count": 92,
   "id": "62f7dcf1",
   "metadata": {},
   "outputs": [],
   "source": [
    "morph = constants.create_analyzers_for_every_alphabet(r\"C:\\dev\\ISV_data_gathering\\\\\")['etm']\n",
    "morph.char_substitutes['ė'.encode(\"utf8\")] = ('e'.encode(\"utf8\"), 'e')"
   ]
  },
  {
   "cell_type": "code",
   "execution_count": 93,
   "id": "a8b73d73",
   "metadata": {},
   "outputs": [],
   "source": [
    "Src = \"Zdråvěj i zdråvějte vsi, prĳateǉi! Věš, možno i v zlom světu, no jestli někto postųpaje toksično i manipuluje drugymi ǉud́ami, potom jest nažalost́ nebezpečny kako člověk. Anton imaje svojų pravdų, uběđaje ǉudĳ s slabějšim harakterom i bez svojego mněńja, a jestli jesi protiv ǌego, potom u ǌego imaješ problem. Prinajmėǌe tako to viđų ja.\"\n",
    "\n",
    "Src = convert2MSPlus(Src)\n",
    "tokens = list(tokenize(Src))\n"
   ]
  },
  {
   "cell_type": "code",
   "execution_count": null,
   "id": "c56534fa",
   "metadata": {},
   "outputs": [],
   "source": []
  },
  {
   "cell_type": "code",
   "execution_count": 94,
   "id": "d171ef59",
   "metadata": {},
   "outputs": [
    {
     "name": "stdout",
     "output_type": "stream",
     "text": [
      "Substring(101, 111, 'manipuluje') manipulovati ['I']\n",
      "Substring(226, 236, 'harakterom') harakter ['I']\n",
      "Substring(308, 315, 'problem') problem ['I']\n"
     ]
    }
   ],
   "source": [
    "for token in tokens:\n",
    "    parses = morph.parse(token.text.lower())\n",
    "    n_forms = set(p.normal_form for p in parses)\n",
    "    pos_cands = set(p.tag.POS for p in parses)\n",
    "    N = len(parses)\n",
    "    \n",
    "    if N > 1:\n",
    "        #print(token.text, N, n_forms, pos_cands)\n",
    "        pass\n",
    "    for form in n_forms:\n",
    "        genesis = slovnik[slovnik.isv == form].genesis.dropna().values\n",
    "        if len(genesis):\n",
    "            print(token, form, genesis)"
   ]
  },
  {
   "cell_type": "code",
   "execution_count": null,
   "id": "2f76c752",
   "metadata": {},
   "outputs": [],
   "source": []
  },
  {
   "cell_type": "code",
   "execution_count": 95,
   "id": "3d735153",
   "metadata": {},
   "outputs": [],
   "source": [
    "from string import punctuation\n"
   ]
  },
  {
   "cell_type": "code",
   "execution_count": 96,
   "id": "12f6fff5",
   "metadata": {},
   "outputs": [],
   "source": [
    "# from razdel.record import Record\n",
    "from natasha.record import Record\n",
    "\n",
    "class AnnotatedToken(Record):\n",
    "    __attributes__ = ['text', 'capitalization', 'space_after', 'features', 'POS', 'lemma', 'isv_id', 'genesis']\n"
   ]
  },
  {
   "cell_type": "code",
   "execution_count": null,
   "id": "9f5d3e1a",
   "metadata": {},
   "outputs": [],
   "source": []
  },
  {
   "cell_type": "code",
   "execution_count": null,
   "id": "c3565c12",
   "metadata": {},
   "outputs": [],
   "source": []
  },
  {
   "cell_type": "code",
   "execution_count": 97,
   "id": "97910ff8",
   "metadata": {},
   "outputs": [],
   "source": [
    "tokens_data = []\n",
    "\n",
    "for i, t in enumerate(tokens):\n",
    "    if i + 1 < len(tokens):\n",
    "        space_after = Src[t.stop: tokens[i+1].start]\n",
    "    else:\n",
    "        space_after = \"\"\n",
    "    \n",
    "    parses = morph.parse(t.text.replace(\"đ\", \"dʒ\"))\n",
    "    if parses:\n",
    "        # TODO: HANDLE NON-DETERMINISM HERE\n",
    "        # BECAUSE I CAN AND WHY NOT\n",
    "        isv_lemma = parses[0].normal_form\n",
    "        tag = parses[0].tag\n",
    "        entry = slovnik[slovnik.isv == isv_lemma]\n",
    "        pos = str(tag.POS)\n",
    "        if len(entry):\n",
    "            isv_id = entry.index[0]\n",
    "            isv_genesis = entry.genesis.values[0]\n",
    "        else:\n",
    "            isv_id = -1\n",
    "            isv_genesis = \"\"\n",
    "    else:\n",
    "        tag = None\n",
    "        pos = \"PUNCT\" if t.text in punctuation else \"UNKNOWN\"\n",
    "        isv_lemma = None\n",
    "        isv_id = -1\n",
    "        isv_genesis = \"\"\n",
    "\n",
    "    ann_token = AnnotatedToken(\n",
    "        [t.text],\n",
    "        t.text.istitle(), space_after,\n",
    "        tag, pos, isv_lemma,\n",
    "        isv_id, isv_genesis\n",
    "    )\n",
    "    tokens_data.append(ann_token)\n",
    "# is_upper space_after features lemma genesis partOfSpeech\n",
    "\n"
   ]
  },
  {
   "cell_type": "code",
   "execution_count": null,
   "id": "76498820",
   "metadata": {},
   "outputs": [],
   "source": []
  },
  {
   "cell_type": "code",
   "execution_count": null,
   "id": "a1d257d6",
   "metadata": {},
   "outputs": [],
   "source": []
  },
  {
   "cell_type": "markdown",
   "id": "71a684c9",
   "metadata": {},
   "source": [
    "# FLAVORIZATION (MORPHOLOGICAL): RULES"
   ]
  },
  {
   "cell_type": "code",
   "execution_count": 98,
   "id": "33e8ce17",
   "metadata": {},
   "outputs": [],
   "source": [
    "\n",
    "RU_FLAVOR = {\n",
    "    \"VERB\":\n",
    "    {\n",
    "        \"infn\": (-1, 'ь'),\n",
    "        \"3per+sing\": (None, 't'),\n",
    "    },\n",
    "    \"NOUN\":\n",
    "    {\n",
    "        \"loct+sing+masc\": (-1, \"ě\"),\n",
    "    },\n",
    "    \"ADJF\":\n",
    "    {\n",
    "        \"nomn+sing+femn\": (None, \"ja\"),\n",
    "        \"nomn+sing+neut\": (None, \"ě\"),\n",
    "        \"nomn+sing+masc\": (None, \"j\"),\n",
    "\n",
    "        \"accs+sing+femn\": (None, \"ju\"),\n",
    "        \"accs+sing+neut\": (None, \"ě\"),\n",
    "        \"accs+sing+masc+anim\": (None, \"\"),\n",
    "        \"accs+sing+masc+inan\": (None, \"j\"),\n",
    "\n",
    "        # \"accs+plur\": (None, \"iě\"),\n",
    "        \"nomn+plur\": (-1, \"ые\"),\n",
    "        \"accs+plur+neut\": (-1, \"ые\"),\n",
    "        # \"accs+plur+femn+anim\": (-1, \"ых\"),\n",
    "        # \"accs+plur+femn+inan\": (-1, \"ые\"),\n",
    "        # \"accs+plur+masc+anim\": (-1, \"ых\"),\n",
    "        # \"accs+plur+masc+inan\": (-1, \"ые\"),\n",
    "    },\n",
    "    \"SPECIAL_CASES\": \n",
    "    {\n",
    "        \"jesm\": \"являюсь\",\n",
    "        \"jesmo\": \"являемся\",\n",
    "        \"jesi\": \"являешься\",\n",
    "        \"jest\": \"является\",\n",
    "        \"jestli\": \"если\"\n",
    "    }\n",
    "}"
   ]
  },
  {
   "cell_type": "code",
   "execution_count": 99,
   "id": "80d730f6",
   "metadata": {},
   "outputs": [],
   "source": [
    "\n",
    "PL_FLAVOR = {\n",
    "    \"VERB\":\n",
    "    {\n",
    "        \"1per+sing\": (-1, 'ę'),\n",
    "        \"3per+plur\": (-2, 'ą'),\n",
    "    },\n",
    "    \"NOUN\":\n",
    "    {\n",
    "        \"loct+sing+masc\": (-1, \"ě\"),\n",
    "        \"accs+sing+femn\": (-1, \"ę\"),\n",
    "    },\n",
    "    \"ADVB\": {\"ADVB\": (-1, 'e')},\n",
    "    \"ADJF\":\n",
    "    {\n",
    "        \"nomn+plur+femn\": (-1, \"ie\"),\n",
    "        \"accs+plur+femn\": (-1, \"ie\"),\n",
    "        \"nomn+plur+neut\": (-1, \"ie\"),\n",
    "        \"accs+plur+neut\": (-1, \"ie\"),\n",
    "\n",
    "        \"accs+sing+femn\": (-1, \"ą\"),\n",
    "        \"ablt+sing+femn\": (-1, \"ą\"),\n",
    "\n",
    "        \"loct+sing+femn\": (-2, \"ej\"),\n",
    "        \"datv+sing+femn\": (-2, \"ej\"),\n",
    "        \"gent+sing+femn\": (-2, \"ej\"),\n",
    "\n",
    "        \"accs+plur+masc\": (-2, \"ych\"),\n",
    "        \"loct+plur\": (-2, \"ych\"),\n",
    "        \"datv+plur\": (-2, \"ych\"),\n",
    "    },\n",
    "    \"SPECIAL_CASES\": {}\n",
    "}"
   ]
  },
  {
   "cell_type": "code",
   "execution_count": 100,
   "id": "73ae1e2c",
   "metadata": {},
   "outputs": [],
   "source": [
    "ju = True"
   ]
  },
  {
   "cell_type": "code",
   "execution_count": 101,
   "id": "6ca1c9d8",
   "metadata": {},
   "outputs": [],
   "source": [
    "FLAVOR = PL_FLAVOR"
   ]
  },
  {
   "cell_type": "markdown",
   "id": "54f69137",
   "metadata": {},
   "source": [
    "# FLAVORIZATION (MORPHOLOGICAL): IMPLEMENTATION"
   ]
  },
  {
   "cell_type": "code",
   "execution_count": 102,
   "id": "db43ea12",
   "metadata": {},
   "outputs": [],
   "source": [
    "\n",
    "\n",
    "def flavorise(word, golden_pos_tag, isv_morph, flavor, ju):\n",
    "    if word in flavor[\"SPECIAL_CASES\"]:\n",
    "        return flavor[\"SPECIAL_CASES\"][word]\n",
    "    word = word.replace(\"đ\", \"dʒ\")\n",
    "    return __flavorise(word, golden_pos_tag, isv_morph, flavor, ju).replace(\"dʒ\", \"đ\")\n",
    "\n",
    "def __flavorise(word, golden_pos_tag, isv_morph, flavor, ju):\n",
    "    if golden_pos_tag == \"PNCT\":\n",
    "        return word\n",
    "    if golden_pos_tag == \"ADVB\":\n",
    "        variants = [\n",
    "            v for v in isv_morph.parse(word)\n",
    "            if v.tag.POS == \"ADJF\"\n",
    "            and v.tag.number == \"sing\" and v.tag.gender == \"neut\" and v.tag.case == \"nomn\"\n",
    "        ]\n",
    "        if not variants:\n",
    "            return word\n",
    "    else:\n",
    "        variants = [v for v in isv_morph.parse(word) if golden_pos_tag in v.tag]\n",
    "\n",
    "    if not variants:\n",
    "        return word\n",
    "\n",
    "    if ju:\n",
    "        if golden_pos_tag == \"VERB\" and all(v.tag.person == \"1per\" for v in variants):\n",
    "            tags = variants[0].tag.grammemes  # no better way to choose\n",
    "            new_tags = set(tags) - {'V-m'} | {'V-ju'}\n",
    "            word = isv_morph.parse(word)[0].inflect(new_tags).word\n",
    "\n",
    "    if golden_pos_tag == \"ADJF\":\n",
    "        variants = [variants[0]]  # no better way to choose\n",
    "\n",
    "    flavor_rules = flavor.get(golden_pos_tag, {})\n",
    "    if golden_pos_tag == \"ADVB\":\n",
    "        flavor_rules = {\"ADJF\": flavor_rules.get('ADVB', (None, ''))}\n",
    "\n",
    "    for condition_plus, transform in flavor_rules.items():\n",
    "        conditions_arr = condition_plus.split(\"+\")\n",
    "        is_match = all(\n",
    "            all(cond in v.tag for cond in conditions_arr)\n",
    "            for v in variants\n",
    "        )\n",
    "        if is_match:\n",
    "            if isinstance(transform, tuple):\n",
    "                suffix, addition = transform\n",
    "                return word[:suffix] + addition\n",
    "            if isinstance(transform, dict):\n",
    "                for base, replacement in transform.items():\n",
    "                    if word[-len(base):] == base:\n",
    "                        return word[:-len(base)] + replacement\n",
    "\n",
    "    return word\n",
    "\n",
    "\n"
   ]
  },
  {
   "cell_type": "code",
   "execution_count": null,
   "id": "397d5d5d",
   "metadata": {},
   "outputs": [],
   "source": []
  },
  {
   "cell_type": "code",
   "execution_count": 103,
   "id": "eef5ce92",
   "metadata": {},
   "outputs": [
    {
     "name": "stdout",
     "output_type": "stream",
     "text": [
      "možno možne\n",
      "pravdų pravdę\n",
      "tako take\n",
      "viđų viđę\n"
     ]
    }
   ],
   "source": [
    "for i, token in enumerate(tokens_data):\n",
    "    original = token.text[0]\n",
    "    flavorised = flavorise(token.text[0], token.POS, morph, FLAVOR, ju=ju)\n",
    "    if original != flavorised:\n",
    "        print(original, flavorised)\n",
    "        token.text[0] = flavorised\n",
    "        # print(token)\n"
   ]
  },
  {
   "cell_type": "code",
   "execution_count": null,
   "id": "21293a5c",
   "metadata": {},
   "outputs": [],
   "source": []
  },
  {
   "cell_type": "markdown",
   "id": "996b6f43",
   "metadata": {},
   "source": [
    "# FLAVORIZATION (BASE): IMPLEMENTATION"
   ]
  },
  {
   "cell_type": "code",
   "execution_count": 104,
   "id": "42457929",
   "metadata": {
    "scrolled": false
   },
   "outputs": [
    {
     "name": "stdout",
     "output_type": "stream",
     "text": [
      "look-behind requires fixed-width pattern in 'Alteration (vòz-)'\n",
      "look-behind requires fixed-width pattern in 'Alteration (iz-)'\n",
      "look-behind requires fixed-width pattern in 'Alteration (bez-)'\n",
      "'-sť'\n",
      "['nažalosť']  =>  ['nažalośť', 'nažalosť']\n",
      "'Alterate ending (-ny)'\n",
      "['nebezpečny']  =>  ['nebezpečovy', 'nebezpečny']\n",
      "'Zero ending'\n",
      "['mněńja']  =>  ['mněńja', 'mněńj']\n",
      "'Zero ending'\n",
      "['a']  =>  ['', 'a']\n",
      "'Zero ending'\n",
      "['ja']  =>  ['j', 'ja']\n",
      "'-ť → -ć'\n",
      "['nažalośť', 'nažalosť']  =>  ['nažalosć', 'nažalośť', 'nažalość', 'nažalosť']\n",
      "'-ć-'\n",
      "['nažalosć', 'nažalośť', 'nažalość', 'nažalosť']  =>  ['nažalosc', 'nažalosť', 'nažalosć', 'nažalość', 'nažalośc', 'nažalośť']\n",
      "'Soft R-RZ'\n",
      "['prijatelji']  =>  ['przijatelji', 'prijatelji']\n",
      "'Soft R-RZ'\n",
      "['prinajmėnje']  =>  ['przinajmėnje', 'prinajmėnje']\n",
      "'T-C'\n",
      "['zdråviate']  =>  ['zdråviace', 'zdråviate']\n",
      "'T-C'\n",
      "['przijatelji', 'prijatelji']  =>  ['przijatelji', 'prijacelji', 'prijatelji', 'przijacelji']\n",
      "'T-C'\n",
      "['světu']  =>  ['světu', 'svěcu']\n",
      "'T-C'\n",
      "['jestli']  =>  ['jescli', 'jestli']\n",
      "'T-C'\n",
      "['někto']  =>  ['někco', 'někto']\n",
      "'T-C'\n",
      "['postųpaje']  =>  ['postųpaje', 'poscųpaje']\n",
      "'T-C'\n",
      "['toksično']  =>  ['toksično', 'coksično']\n",
      "'T-C'\n",
      "['potom']  =>  ['potom', 'pocom']\n",
      "'T-C'\n",
      "['jest']  =>  ['jesc', 'jest']\n",
      "'T-C'\n",
      "['anton']  =>  ['ancon', 'anton']\n",
      "'T-C'\n",
      "['harakterom']  =>  ['harakterom', 'harakcerom']\n",
      "'T-C'\n",
      "['jestli']  =>  ['jescli', 'jestli']\n",
      "'T-C'\n",
      "['protiv']  =>  ['protiv', 'prociv']\n",
      "'T-C'\n",
      "['potom']  =>  ['potom', 'pocom']\n",
      "'T-C'\n",
      "['take']  =>  ['cake', 'take']\n",
      "'T-C'\n",
      "['to']  =>  ['to', 'co']\n",
      "'Foreign H'\n",
      "['harakterom', 'harakcerom']  =>  ['ğarakcerom', 'ğarakterom', 'harakterom', 'harakcerom']\n",
      "'Foreign G'\n",
      "['drugymi']  =>  ['drugymi', 'druğymi']\n",
      "'Foreign G'\n",
      "['svojego']  =>  ['svojeğo', 'svojego']\n",
      "'Foreign G'\n",
      "['njego']  =>  ['njeğo', 'njego']\n",
      "'Foreign G'\n",
      "['njego']  =>  ['njeğo', 'njego']\n",
      "'Yat'\n",
      "['zdråvěj']  =>  ['zdråvaj', 'zdråviej', 'zdråvioj', 'zdråvej']\n",
      "'Yat'\n",
      "['věš']  =>  ['vaš', 'vioš', 'vieš', 'veš']\n",
      "'Yat'\n",
      "['světu', 'svěcu']  =>  ['sviotu', 'svetu', 'svatu', 'sviecu', 'svietu', 'svecu', 'svacu', 'sviocu']\n",
      "'Yat'\n",
      "['někco', 'někto']  =>  ['nakto', 'nakco', 'niekco', 'nekto', 'nekco', 'niokto', 'niokco', 'niekto']\n",
      "'Yat'\n",
      "['člověk']  =>  ['človiok', 'človek', 'človak', 'človiek']\n",
      "'Yat'\n",
      "['uběđaje']  =>  ['ubađaje', 'ubeđaje', 'ubieđaje', 'ubiođaje']\n",
      "'Yat'\n",
      "['mněńja', 'mněńj']  =>  ['mniońja', 'mneńja', 'mnieńj', 'mnieńja', 'mnańj', 'mniońj', 'mnańja', 'mneńj']\n",
      "'Yat'\n",
      "['przinajmėnje', 'prinajmėnje']  =>  ['prinajmionje', 'przinajmienje', 'przinajmenje', 'prinajmienje', 'prinajmanje', 'przinajmionje', 'przinajmanje', 'prinajmenje']\n",
      "'Å'\n",
      "['zdråvaj', 'zdråviej', 'zdråvioj', 'zdråvej']  =>  ['zdravioj', 'zdråvaj', 'zdravej', 'zdravaj', 'zdråviej', 'zdraviej', 'zdråvioj', 'zdråvej']\n",
      "'Å'\n",
      "['zdråviace', 'zdråviate']  =>  ['zdraviace', 'zdråviace', 'zdråviate', 'zdraviate']\n",
      "'Alteration (i-y)'\n",
      "['zdravioj', 'zdråvaj', 'zdravej', 'zdravaj', 'zdråviej', 'zdraviej', 'zdråvioj', 'zdråvej']  =>  ['zdråvyej', 'zdravyoj', 'zdravioj', 'zdråvaj', 'zdravyej', 'zdråvyoj', 'zdravej', 'zdravaj', 'zdråviej', 'zdraviej', 'zdråvioj', 'zdråvej']\n",
      "'Alteration (i-y)'\n",
      "['i']  =>  ['i', 'y']\n",
      "'Alteration (i-y)'\n",
      "['zdraviace', 'zdråviace', 'zdråviate', 'zdraviate']  =>  ['zdråvyate', 'zdravyace', 'zdråviace', 'zdråviate', 'zdraviace', 'zdravyate', 'zdråvyace', 'zdraviate']\n",
      "'Alteration (i-y)'\n",
      "['vsi']  =>  ['vsi', 'vsy']\n",
      "'Alteration (i-y)'\n",
      "['przijatelji', 'prijacelji', 'prijatelji', 'przijacelji']  =>  ['przijatelji', 'pryjaceljy', 'przijacelji', 'przyjateljy', 'pryjateljy', 'przyjaceljy', 'prijatelji', 'prijacelji']\n",
      "'Alteration (i-y)'\n",
      "['vaš', 'vieš', 'vioš', 'veš']  =>  ['vyoš', 'vaš', 'vioš', 'veš', 'vyeš', 'vieš']\n",
      "'Alteration (i-y)'\n",
      "['i']  =>  ['i', 'y']\n",
      "'Alteration (i-y)'\n",
      "['sviotu', 'svetu', 'svatu', 'sviecu', 'svietu', 'svecu', 'svacu', 'sviocu']  =>  ['svyocu', 'sviotu', 'svetu', 'svatu', 'svyecu', 'sviecu', 'svyotu', 'svietu', 'svecu', 'svyetu', 'svacu', 'sviocu']\n",
      "'Alteration (i-y)'\n",
      "['jescli', 'jestli']  =>  ['jestly', 'jescly', 'jescli', 'jestli']\n",
      "'Alteration (i-y)'\n",
      "['nakto', 'nakco', 'niekco', 'nekto', 'nekco', 'niokto', 'niokco', 'niekto']  =>  ['niokco', 'nakto', 'nakco', 'nyekto', 'nyekco', 'niekco', 'nekto', 'nekco', 'niokto', 'nyokto', 'niekto', 'nyokco']\n",
      "'Alteration (i-y)'\n",
      "['toksično', 'coksično']  =>  ['toksyčno', 'coksyčno', 'toksično', 'coksično']\n",
      "'Alteration (i-y)'\n",
      "['i']  =>  ['i', 'y']\n",
      "'Alteration (i-y)'\n",
      "['manipuluje']  =>  ['manipuluje', 'manypuluje']\n",
      "'Alteration (i-y)'\n",
      "['drugymi', 'druğymi']  =>  ['drugymy', 'drugymi', 'druğymy', 'druğymi']\n",
      "'Alteration (i-y)'\n",
      "['ljuďami']  =>  ['ljuďamy', 'ljuďami']\n",
      "'Alteration (i-y)'\n",
      "['človiok', 'človek', 'človak', 'človiek']  =>  ['človiok', 'človyok', 'človak', 'človyek', 'človiek', 'človek']\n",
      "'Alteration (i-y)'\n",
      "['imaje']  =>  ['imaje', 'ymaje']\n",
      "'Alteration (i-y)'\n",
      "['ubiođaje', 'ubađaje', 'ubieđaje', 'ubeđaje']  =>  ['ubiođaje', 'ubyeđaje', 'ubyođaje', 'ubeđaje', 'ubađaje', 'ubieđaje']\n",
      "'Alteration (i-y)'\n",
      "['ljudij']  =>  ['ljudyj', 'ljudij']\n",
      "'Alteration (i-y)'\n",
      "['slabiašim']  =>  ['slabiašim', 'slabyašym']\n",
      "'Alteration (i-y)'\n",
      "['i']  =>  ['i', 'y']\n",
      "'Alteration (i-y)'\n",
      "['mniońja', 'mneńja', 'mnieńj', 'mnieńja', 'mnańj', 'mniońj', 'mnańja', 'mneńj']  =>  ['mniońja', 'mnyeńj', 'mnyońja', 'mnyeńja', 'mnyońj', 'mneńja', 'mnieńj', 'mnieńja', 'mnańj', 'mniońj', 'mnańja', 'mneńj']\n",
      "'Alteration (i-y)'\n",
      "['jescli', 'jestli']  =>  ['jestly', 'jescly', 'jescli', 'jestli']\n",
      "'Alteration (i-y)'\n",
      "['jesi']  =>  ['jesi', 'jesy']\n",
      "'Alteration (i-y)'\n",
      "['protiv', 'prociv']  =>  ['protiv', 'procyv', 'protyv', 'prociv']\n",
      "'Alteration (i-y)'\n",
      "['imaješ']  =>  ['imaješ', 'ymaješ']\n",
      "'Alteration (i-y)'\n",
      "['prinajmionje', 'przinajmienje', 'przinajmenje', 'przinajmionje', 'prinajmienje', 'prinajmanje', 'przinajmanje', 'prinajmenje']  =>  ['prynajmenje', 'prynajmyenje', 'prinajmionje', 'prynajmyonje', 'przinajmienje', 'przinajmenje', 'przynajmyenje', 'prinajmienje', 'prinajmanje', 'przynajmanje', 'prynajmanje', 'przynajmenje', 'przinajmionje', 'przynajmyonje', 'przinajmanje', 'prinajmenje']\n",
      "'Alteration (i-y)'\n",
      "['viđę']  =>  ['viđę', 'vyđę']\n",
      "'Ų'\n",
      "['postųpaje', 'poscųpaje']  =>  ['postępaje', 'postąpaje', 'poscępaje', 'poscąpaje']\n",
      "'Ų'\n",
      "['svojų']  =>  ['svoję', 'svoją']\n",
      "'l→ł'\n",
      "['przijatelji', 'pryjaceljy', 'przijacelji', 'przyjateljy', 'pryjateljy', 'przyjaceljy', 'prijatelji', 'prijacelji']  =>  ['przijatelji', 'pryjaceljy', 'prijacełji', 'przyjatełjy', 'przijacelji', 'przijatełji', 'przyjateljy', 'pryjateljy', 'przyjaceljy', 'prijatełji', 'przyjacełjy', 'prijatelji', 'pryjacełjy', 'prijacelji', 'przijacełji', 'pryjatełjy']\n",
      "'l→ł'\n",
      "['zlom']  =>  ['zlom', 'złom']\n",
      "'l→ł'\n",
      "['jestly', 'jescli', 'jescly', 'jestli']  =>  ['jestły', 'jescli', 'jestłi', 'jestli', 'jescłi', 'jestly', 'jescly', 'jescły']\n",
      "'l→ł'\n",
      "['manipuluje', 'manypuluje']  =>  ['manipuluje', 'manypułuje', 'manypuluje', 'manipułuje']\n",
      "'l→ł'\n",
      "['ljuďamy', 'ljuďami']  =>  ['ljuďamy', 'łjuďami', 'ljuďami', 'łjuďamy']\n",
      "'l→ł'\n",
      "['nažalosc', 'nažalosť', 'nažalosć', 'nažalość', 'nažalośc', 'nažalośť']  =>  ['nažałośť', 'nažalosc', 'nažałosť', 'nažałosc', 'nažalosť', 'nažałośc', 'nažalosć', 'nažałosć', 'nažałość', 'nažalość', 'nažalośc', 'nažalośť']\n",
      "'l→ł'\n",
      "['človiok', 'človyok', 'človak', 'človyek', 'človiek', 'človek']  =>  ['čłovyok', 'čłovek', 'človiok', 'človyok', 'človiek', 'čłoviok', 'čłoviek', 'človak', 'človyek', 'čłovyek', 'človek', 'čłovak']\n",
      "'l→ł'\n",
      "['ljudyj', 'ljudij']  =>  ['ljudyj', 'łjudij', 'łjudyj', 'ljudij']\n",
      "'l→ł'\n",
      "['slabiašim', 'slabyašym']  =>  ['słabiašim', 'slabiašim', 'slabyašym', 'słabyašym']\n",
      "'l→ł'\n",
      "['jestly', 'jescli', 'jescly', 'jestli']  =>  ['jestły', 'jescli', 'jestłi', 'jestli', 'jescłi', 'jestly', 'jescly', 'jescły']\n",
      "'l→ł'\n",
      "['problem']  =>  ['problem', 'probłem']\n"
     ]
    },
    {
     "data": {
      "text/plain": [
       "'[Zdrawyoj|Zdrowej|Zdrawioj|Zdrowaj|Zdrawiej|Zdrawej|Zdrowiej|Zdrawaj|Zdrowyoj|Zdrowyej|Zdrawyej|Zdrowioj] [i|y] [zdrowyace|zdrowiace|zdrowyate|zdrawyace|zdrawyate|zdrawiace|zdrowiate|zdrawiate] [wsi|wsy], [pryjaceljy|prijacełji|pryjacełjy|przyjatełjy|przyjateljy|pryjateljy|przyjacełji|przyjaceljy|przyjatełji|przyjacełjy|prijatelji|przyjatelji|prijatełji|prijacelji|przyjacelji|pryjatełjy]! [Wyosz|Wasz|Wiosz|Wesz|Wyesz|Wiesz], możne [i|y] w [zlom|złom] [swyocu|swiotu|swetu|swatu|swyecu|swiecu|swyotu|swietu|swecu|swyetu|swacu|swiocu], no [jestły|jescli|jestłi|jescły|jescłi|jestly|jescly|jestli] [nyokto|nakto|nakco|nyekto|nyekco|niekco|nekto|nekco|niokto|niokco|niekto|nyokco] [postępaje|postąpaje|poscępaje|poscąpaje] [toksyczno|coksyczno|toksiczno|coksiczno] [i|y] [manipuluje|manypułuje|manypuluje|manipułuje] [drugymy|druchymy|drugymi|druchymi] [łjudźamy|łjudźami|ljudźami|ljudźamy], [potom|pocom] [jesc|jest] [nażalosc|nażałośt|nażalost|nażałost|nażałosc|nażałośc|nażalosć|nażałosć|nażałość|nażalość|nażalośc|nażalośt] [nebezpeczowy|nebezpeczny] kako [człowyok|człowek|czlowiok|czlowyok|człowiok|człowiek|czlowak|czlowyek|czlowiek|człowyek|czlowek|człowak]. [Anton|Ancon] [imaje|ymaje] [swoję|swoją] prawdę, [ubiedzaje|ubyedzaje|ubyodzaje|ubiodzaje|ubadzaje|ubedzaje] [łjudyj|ljudyj|łjudij|ljudij] s [slabiaszim|słabyaszym|słabiaszim|slabyaszym] [charakterom|charakcerom] [i|y] bez [swojecho|swojego] [mniońja|mnyeńj|mnyońja|mnyeńja|mnyońj|mneńja|mnieńj|mnieńja|mnańj|mniońj|mnańja|mneńj], [|a] [jestły|jescli|jestłi|jescły|jescłi|jestly|jescly|jestli] [jesi|jesy] [protiw|procyw|protyw|prociw] [njego|njecho], [potom|pocom] u [njego|njecho] [imajesz|ymajesz] [problem|probłem]. [Prynajmenje|Prynajmyenje|Prinajmionje|Przynajmionje|Prynajmyonje|Przynajmienje|Przynajmyenje|Prinajmienje|Przynajmanje|Prynajmanje|Przynajmenje|Prinajmanje|Przynajmyonje|Prinajmenje] [cake|take] [to|co] [widzę|wydzę] [j|ja].'"
      ]
     },
     "execution_count": 104,
     "metadata": {},
     "output_type": "execute_result"
    }
   ],
   "source": [
    "# Src = \"Zdråvej i zdråvejte vsi, prĳateǉi! Věš, možno i v zlom světu, no jestli někto postųpaje toksično i manipuluje drugymi ǉud́ami, potom jest nažalost́ nebezpečny kako člověk. Anton imaje svojų pravdų, uběđaje ǉudĳ s slabějšim harakterom i bez svojego mněńja, a jestli jesi protiv ǌego, potom u ǌego imaješ problem. Prinajmėǌe tako to viđų ja.\"\n",
    "\n",
    "# Src = Src.lower()\n",
    "\n",
    "\n",
    "for e in res:\n",
    "    #print(e)\n",
    "    name, typ = e[:2]\n",
    "    if \"lowerCase\" in typ:\n",
    "        for i in range(len(tokens_data)):\n",
    "            for j, w in enumerate(tokens_data[i].text):\n",
    "                tokens_data[i].text[j] = w.lower()\n",
    "    if \"restoreCase\" in typ:\n",
    "        for i in range(len(tokens_data)):\n",
    "            if tokens_data[i].capitalization:\n",
    "                for j, w in enumerate(tokens_data[i].text):\n",
    "                    tokens_data[i].text[j] = w.title()\n",
    "        \n",
    "    if typ == \"r.map\":\n",
    "        for (a, b) in e[2:]:\n",
    "            for i in range(len(tokens_data)):\n",
    "                for j, w in enumerate(tokens_data[i].text):\n",
    "                    tokens_data[i].text[j] = w.replace(a, b)\n",
    "    if typ == \"r.regexp\":\n",
    "        if len(e) == 4:\n",
    "            name, typ, pattern, subst = e\n",
    "            constraint = None\n",
    "        else:\n",
    "            name, typ, pattern, subst, constraint = e\n",
    "            constraint = constraint.asList()\n",
    "        subst = subst.asList()\n",
    "        subst = [s.replace(\"$\", \"\\\\\").strip(\"'\") for s in subst]\n",
    "        pattern = pattern.replace(\"\\x08\", \"$\")\n",
    "        try:\n",
    "            re.compile(pattern)\n",
    "        except re.error as e:\n",
    "            print(e, \"in\", name)\n",
    "            continue\n",
    "        for i in range(len(tokens_data)):\n",
    "            prev_words = list(tokens_data[i].text)\n",
    "            candidates = []\n",
    "            for j, w in enumerate(tokens_data[i].text):\n",
    "                for one_subst in subst:\n",
    "                    cand = re.sub(pattern, one_subst, w)\n",
    "                    candidates.append(cand)\n",
    "            tokens_data[i].text = list(set(candidates))\n",
    "            if len(tokens_data[i].text) > len(prev_words):\n",
    "                print(name)\n",
    "                print(prev_words, \" => \", tokens_data[i].text)\n",
    "        # print(name, len(candidates), len(set(candidates)))\n",
    "        # words = choice(candidates)\n",
    "\n",
    "\n",
    "final = \"\".join([\n",
    "    (t.text[0] if len(t.text) == 1 else f\"[{'|'.join(t.text)}]\") + t.space_after\n",
    "    for t in tokens_data\n",
    "])\n",
    "final"
   ]
  },
  {
   "cell_type": "code",
   "execution_count": null,
   "id": "f15f5c37",
   "metadata": {},
   "outputs": [],
   "source": []
  },
  {
   "cell_type": "code",
   "execution_count": null,
   "id": "e147b1e7",
   "metadata": {},
   "outputs": [],
   "source": []
  },
  {
   "cell_type": "code",
   "execution_count": null,
   "id": "30fd76ad",
   "metadata": {},
   "outputs": [],
   "source": []
  },
  {
   "cell_type": "markdown",
   "id": "d24c3788",
   "metadata": {},
   "source": [
    "## VARIANT SELECTION"
   ]
  },
  {
   "cell_type": "code",
   "execution_count": 106,
   "id": "7fb7b43b",
   "metadata": {},
   "outputs": [
    {
     "name": "stdout",
     "output_type": "stream",
     "text": [
      "[IsoCode639_3.BEL, IsoCode639_3.UKR, IsoCode639_3.RUS, IsoCode639_3.BOS, IsoCode639_3.HRV, IsoCode639_3.SRP, IsoCode639_3.SLV, IsoCode639_3.BUL, IsoCode639_3.MKD, IsoCode639_3.POL, IsoCode639_3.CES, IsoCode639_3.SLK]\n"
     ]
    }
   ],
   "source": [
    "import lingua\n",
    "lingua.isocode.IsoCode639_3\n",
    "\n",
    "LANGS = [\n",
    "    'bel', 'ukr', 'rue', 'rus', 'bos', 'hrv', 'srp', 'cnr', 'slv', 'bul', 'mkd', 'chu', 'wen', 'dsb', 'hsb', 'pol', 'szl', 'csb', 'pox', 'ces', 'czk', 'slk',\n",
    "]\n",
    "\n",
    "LANGS = [\n",
    "    getattr(lingua.isocode.IsoCode639_3, l.upper())\n",
    "    for l in LANGS\n",
    "    if l.upper() in dir(lingua.isocode.IsoCode639_3)\n",
    "]\n",
    "print(LANGS)\n",
    "\n",
    "detector = lingua.LanguageDetectorBuilder.from_iso_codes_639_3(*LANGS).build()"
   ]
  },
  {
   "cell_type": "code",
   "execution_count": 107,
   "id": "ba74bc1f",
   "metadata": {},
   "outputs": [],
   "source": [
    "\n",
    "def get_conf(confs, lang):\n",
    "    the_sum = sum(dict(confs).values())\n",
    "    return {k: v / the_sum for (k, v) in confs}[lang]\n"
   ]
  },
  {
   "cell_type": "code",
   "execution_count": null,
   "id": "ee29f030",
   "metadata": {},
   "outputs": [],
   "source": []
  },
  {
   "cell_type": "code",
   "execution_count": 132,
   "id": "109b3a99",
   "metadata": {},
   "outputs": [
    {
     "name": "stdout",
     "output_type": "stream",
     "text": [
      "{'Zdrawyoj': 0.17823896633345204, 'Zdrowej': 0.2659996736501023, 'Zdrawioj': 0.20585427563265263, 'Zdrowaj': 0.2175662366706651, 'Zdrawiej': 0.23185072942629972, 'Zdrawej': 0.2165312462891608, 'Zdrowiej': 0.24656809719203443, 'Zdrawaj': 0.1951422431865108, 'Zdrowyoj': 0.20134665433305685, 'Zdrowyej': 0.22595992797417583, 'Zdrawyej': 0.1809894104401752, 'Zdrowioj': 0.21701018509113865}\n",
      "{'i': 0.1694472530987956, 'y': 0.2587136917583172}\n",
      "{'zdrowyace': 0.19677076951488423, 'zdrowiace': 0.22869669853447247, 'zdrowyate': 0.22238892502274316, 'zdrawyace': 0.17194595000660837, 'zdrawyate': 0.17956705343261312, 'zdrawiace': 0.21040858165520496, 'zdrowiate': 0.25279874214440506, 'zdrawiate': 0.2210346250086031}\n",
      "{'wsi': 0.21580669380864984, 'wsy': 0.20848875855232818}\n",
      "{'pryjaceljy': 0.1621665126350064, 'prijacełji': 1.0, 'pryjacełjy': 1.0, 'przyjatełjy': 1.0, 'przyjateljy': 0.16063325604601025, 'pryjateljy': 0.14457046092881268, 'przyjacełji': 1.0, 'przyjaceljy': 0.17670621812643067, 'przyjatełji': 1.0, 'przyjacełjy': 1.0, 'prijatelji': 0.10708586662334772, 'przyjatelji': 0.16541452638217236, 'prijatełji': 1.0, 'prijacelji': 0.14310554042258877, 'przyjacelji': 0.18506714036964864, 'pryjatełjy': 1.0}\n",
      "{'Wyosz': 0.1938622843346761, 'Wasz': 0.26156125212487596, 'Wiosz': 0.23568951924904818, 'Wesz': 0.24638982864091818, 'Wyesz': 0.2015757613745548, 'Wiesz': 0.26613867872391145}\n",
      "{'i': 0.1694472530987956, 'y': 0.2587136917583172}\n",
      "{'zlom': 0.14312668968080816, 'złom': 1.0}\n",
      "{'swyocu': 0.17921827056183381, 'swiotu': 0.16714624824391425, 'swetu': 0.18000746332785522, 'swatu': 0.17839616420076088, 'swyecu': 0.19306485144594296, 'swiecu': 0.2025522633111794, 'swyotu': 0.17826553012470522, 'swietu': 0.1938286227606226, 'swecu': 0.16411977156066895, 'swyetu': 0.18522242096827163, 'swacu': 0.1483387694715811, 'swiocu': 0.17148034734975057}\n",
      "{'jestły': 1.0, 'jescli': 0.15567203612315383, 'jestłi': 1.0, 'jescły': 1.0, 'jescłi': 1.0, 'jestly': 0.1834277835552223, 'jescly': 0.16210536639842557, 'jestli': 0.17033934462575342}\n",
      "{'nyokto': 0.1694066889087778, 'nakto': 0.1894314386243872, 'nakco': 0.15660811945709577, 'nyekto': 0.18225347139722714, 'nyekco': 0.1803117374967228, 'niekco': 0.18803040340328608, 'nekto': 0.1684612109262508, 'nekco': 0.16498186947582238, 'niokto': 0.1644136888087799, 'niokco': 0.17624971627350544, 'niekto': 0.2041337579351217, 'nyokco': 0.18188576167495724}\n",
      "{'postępaje': 1.0, 'postąpaje': 1.0, 'poscępaje': 1.0, 'poscąpaje': 1.0}\n",
      "{'toksyczno': 0.2452571338773232, 'coksyczno': 0.22886346347056746, 'toksiczno': 0.21079522536684728, 'coksiczno': 0.2059483445817467}\n",
      "{'i': 0.1694472530987956, 'y': 0.2587136917583172}\n",
      "{'manipuluje': 0.17307378128418024, 'manypułuje': 1.0, 'manypuluje': 0.19381826105220626, 'manipułuje': 1.0}\n",
      "{'drugymy': 0.17398560910133914, 'druchymy': 0.20733154452961, 'drugymi': 0.17345192847902025, 'druchymi': 0.2069321165644124}\n",
      "{'łjudźamy': 1.0, 'łjudźami': 1.0, 'ljudźami': 1.0, 'ljudźamy': 1.0}\n",
      "{'potom': 0.14701489085002048, 'pocom': 0.15648953975922575}\n",
      "{'jesc': 0.17483867319766566, 'jest': 0.18714640687536394}\n",
      "{'nażalosc': 1.0, 'nażałośt': 1.0, 'nażalost': 1.0, 'nażałost': 1.0, 'nażałosc': 1.0, 'nażałośc': 1.0, 'nażalosć': 0.2736892012380777, 'nażałosć': 1.0, 'nażałość': 1.0, 'nażalość': 1.0, 'nażalośc': 1.0, 'nażalośt': 1.0}\n",
      "{'nebezpeczowy': 0.22558350203165373, 'nebezpeczny': 0.21031859894818455}\n",
      "{'człowyok': 1.0, 'człowek': 1.0, 'czlowiok': 0.21268470396700978, 'czlowyok': 0.22555652884064709, 'człowiok': 1.0, 'człowiek': 1.0, 'czlowak': 0.21828678836972715, 'czlowyek': 0.2345788073777627, 'czlowiek': 0.2502391986934728, 'człowyek': 1.0, 'czlowek': 0.19958626188049192, 'człowak': 1.0}\n",
      "{'Anton': 0.16393075628647188, 'Ancon': 0.1643537548425599}\n",
      "{'imaje': 0.1534015699715891, 'ymaje': 0.16928155541466053}\n",
      "{'swoję': 1.0, 'swoją': 1.0}\n",
      "{'ubiedzaje': 0.22335913167980936, 'ubyedzaje': 0.17816152169085278, 'ubyodzaje': 0.20748837807726853, 'ubiodzaje': 0.18843620274267872, 'ubadzaje': 0.19261849921947818, 'ubedzaje': 0.186572562888846}\n",
      "{'łjudyj': 1.0, 'ljudyj': 0.1781401660671833, 'łjudij': 1.0, 'ljudij': 0.1339170039821356}\n",
      "{'slabiaszim': 0.18233260165189472, 'słabyaszym': 1.0, 'słabiaszim': 1.0, 'slabyaszym': 0.2037525710866835}\n",
      "{'charakterom': 0.173757280024447, 'charakcerom': 0.1637483985255183}\n",
      "{'i': 0.1694472530987956, 'y': 0.2587136917583172}\n",
      "{'swojecho': 0.24178384116039586, 'swojego': 0.2551351309941981}\n",
      "{'mniońja': 1.0, 'mnyeńj': 1.0, 'mnyońja': 1.0, 'mnyeńja': 1.0, 'mnyońj': 1.0, 'mneńja': 1.0, 'mnieńj': 1.0, 'mnieńja': 1.0, 'mnańj': 1.0, 'mniońj': 1.0, 'mnańja': 1.0, 'mneńj': 1.0}\n",
      "{'a': 0.1624122066861134}\n",
      "{'jestły': 1.0, 'jescli': 0.15567203612315383, 'jestłi': 1.0, 'jescły': 1.0, 'jescłi': 1.0, 'jestly': 0.1834277835552223, 'jescly': 0.16210536639842557, 'jestli': 0.17033934462575342}\n",
      "{'jesi': 0.18863212524328268, 'jesy': 0.19201932166149646}\n",
      "{'protiw': 0.14500825519873822, 'procyw': 0.20543163195244188, 'protyw': 0.22923415215980672, 'prociw': 0.17947029426230415}\n",
      "{'njego': 0.1583841639347069, 'njecho': 0.2067536508739082}\n",
      "{'potom': 0.14701489085002048, 'pocom': 0.15648953975922575}\n",
      "{'njego': 0.1583841639347069, 'njecho': 0.2067536508739082}\n",
      "{'imajesz': 0.21522480757251994, 'ymajesz': 0.23018824278549102}\n",
      "{'problem': 0.1721145456283059, 'probłem': 1.0}\n",
      "{'Prynajmenje': 0.15918603437228343, 'Prynajmyenje': 0.19878778275973463, 'Prinajmionje': 0.16599628376950215, 'Przynajmionje': 0.20636263290718368, 'Prynajmyonje': 0.19951427763749108, 'Przynajmienje': 0.2236137759258536, 'Przynajmyenje': 0.20896857301207608, 'Prinajmienje': 0.1801140225940811, 'Przynajmanje': 0.18748303436999925, 'Prynajmanje': 0.17512946807440888, 'Przynajmenje': 0.1697056853274683, 'Prinajmanje': 0.13818038516639125, 'Przynajmyonje': 0.20956885336040965, 'Prinajmenje': 0.1301920637269158}\n",
      "{'cake': 0.1423257961307106, 'take': 0.13955532808412882}\n",
      "{'to': 0.15904565170196483, 'co': 0.17453345592458117}\n",
      "{'widzę': 1.0, 'wydzę': 1.0}\n",
      "{'j': 0.15129474867980766, 'ja': 0.160549843758094}\n"
     ]
    },
    {
     "data": {
      "text/plain": [
       "'Zdrowej y zdrowiate wsi, prijacełji! Wiesz, możne y w złom swiecu, no jestły niekto postępaje toksyczno y manypułuje druchymy łjudźamy, pocom jest nażalosc nebezpeczowy kako człowyok. Ancon ymaje swoję prawdę, ubiedzaje łjudyj s słabyaszym charakterom y bez swojego mniońja, a jestły jesy protyw njecho, pocom u njecho ymajesz probłem. Przynajmienje cake co widzę ja.'"
      ]
     },
     "execution_count": 132,
     "metadata": {},
     "output_type": "execute_result"
    }
   ],
   "source": [
    "final = []\n",
    "for token in tokens_data:\n",
    "    w = token.text\n",
    "    if len(w) > 1:\n",
    "        scores = {}\n",
    "        for cand in w:\n",
    "            if cand:\n",
    "                confs = detector.compute_language_confidence_values(cand)\n",
    "                scores[cand] = get_conf(confs, LANG_OBJ)\n",
    "        print(scores)\n",
    "        final.append(max(scores, key=lambda x: scores[x]) + token.space_after)\n",
    "    else:\n",
    "        final.append(w[0] + token.space_after)\n",
    "\n",
    "final = \"\".join(final)\n",
    "final"
   ]
  },
  {
   "cell_type": "code",
   "execution_count": null,
   "id": "9c5b0eb2",
   "metadata": {},
   "outputs": [],
   "source": []
  },
  {
   "cell_type": "code",
   "execution_count": null,
   "id": "fb423c35",
   "metadata": {},
   "outputs": [],
   "source": []
  },
  {
   "cell_type": "code",
   "execution_count": 1,
   "id": "a2c4518b",
   "metadata": {},
   "outputs": [],
   "source": []
  },
  {
   "cell_type": "code",
   "execution_count": null,
   "id": "8421edf7",
   "metadata": {},
   "outputs": [],
   "source": []
  }
 ],
 "metadata": {
  "kernelspec": {
   "display_name": "Python [conda env:repdexai]",
   "language": "python",
   "name": "conda-env-repdexai-py"
  },
  "language_info": {
   "codemirror_mode": {
    "name": "ipython",
    "version": 3
   },
   "file_extension": ".py",
   "mimetype": "text/x-python",
   "name": "python",
   "nbconvert_exporter": "python",
   "pygments_lexer": "ipython3",
   "version": "3.7.1"
  }
 },
 "nbformat": 4,
 "nbformat_minor": 5
}
